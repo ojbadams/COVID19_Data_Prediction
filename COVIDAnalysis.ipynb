{
 "cells": [
  {
   "cell_type": "code",
   "execution_count": 66,
   "metadata": {},
   "outputs": [],
   "source": [
    "import pandas as pd\n",
    "import numpy as np"
   ]
  },
  {
   "cell_type": "code",
   "execution_count": 67,
   "metadata": {},
   "outputs": [],
   "source": [
    "df = pd.read_csv(\"finData.csv\")"
   ]
  },
  {
   "cell_type": "code",
   "execution_count": 68,
   "metadata": {},
   "outputs": [
    {
     "data": {
      "text/html": [
       "<div>\n",
       "<style scoped>\n",
       "    .dataframe tbody tr th:only-of-type {\n",
       "        vertical-align: middle;\n",
       "    }\n",
       "\n",
       "    .dataframe tbody tr th {\n",
       "        vertical-align: top;\n",
       "    }\n",
       "\n",
       "    .dataframe thead th {\n",
       "        text-align: right;\n",
       "    }\n",
       "</style>\n",
       "<table border=\"1\" class=\"dataframe\">\n",
       "  <thead>\n",
       "    <tr style=\"text-align: right;\">\n",
       "      <th></th>\n",
       "      <th>cumCasesByPublishDate</th>\n",
       "      <th>cumDeaths28DaysByDeathDate</th>\n",
       "      <th>newCasesByPublishDate</th>\n",
       "      <th>newDeaths28DaysByPublishDate</th>\n",
       "      <th>cumCases</th>\n",
       "      <th>cumDeaths</th>\n",
       "      <th>dailyTest</th>\n",
       "      <th>percentPos</th>\n",
       "    </tr>\n",
       "    <tr>\n",
       "      <th>date</th>\n",
       "      <th></th>\n",
       "      <th></th>\n",
       "      <th></th>\n",
       "      <th></th>\n",
       "      <th></th>\n",
       "      <th></th>\n",
       "      <th></th>\n",
       "      <th></th>\n",
       "    </tr>\n",
       "  </thead>\n",
       "  <tbody>\n",
       "    <tr>\n",
       "      <th>2020-01-03</th>\n",
       "      <td>NaN</td>\n",
       "      <td>NaN</td>\n",
       "      <td>0</td>\n",
       "      <td>0</td>\n",
       "      <td>0</td>\n",
       "      <td>0</td>\n",
       "      <td>NaN</td>\n",
       "      <td>NaN</td>\n",
       "    </tr>\n",
       "    <tr>\n",
       "      <th>2020-01-04</th>\n",
       "      <td>NaN</td>\n",
       "      <td>NaN</td>\n",
       "      <td>0</td>\n",
       "      <td>0</td>\n",
       "      <td>0</td>\n",
       "      <td>0</td>\n",
       "      <td>NaN</td>\n",
       "      <td>NaN</td>\n",
       "    </tr>\n",
       "    <tr>\n",
       "      <th>2020-01-05</th>\n",
       "      <td>NaN</td>\n",
       "      <td>NaN</td>\n",
       "      <td>0</td>\n",
       "      <td>0</td>\n",
       "      <td>0</td>\n",
       "      <td>0</td>\n",
       "      <td>NaN</td>\n",
       "      <td>NaN</td>\n",
       "    </tr>\n",
       "    <tr>\n",
       "      <th>2020-01-06</th>\n",
       "      <td>NaN</td>\n",
       "      <td>NaN</td>\n",
       "      <td>0</td>\n",
       "      <td>0</td>\n",
       "      <td>0</td>\n",
       "      <td>0</td>\n",
       "      <td>NaN</td>\n",
       "      <td>NaN</td>\n",
       "    </tr>\n",
       "    <tr>\n",
       "      <th>2020-01-07</th>\n",
       "      <td>NaN</td>\n",
       "      <td>NaN</td>\n",
       "      <td>0</td>\n",
       "      <td>0</td>\n",
       "      <td>0</td>\n",
       "      <td>0</td>\n",
       "      <td>NaN</td>\n",
       "      <td>NaN</td>\n",
       "    </tr>\n",
       "    <tr>\n",
       "      <th>...</th>\n",
       "      <td>...</td>\n",
       "      <td>...</td>\n",
       "      <td>...</td>\n",
       "      <td>...</td>\n",
       "      <td>...</td>\n",
       "      <td>...</td>\n",
       "      <td>...</td>\n",
       "      <td>...</td>\n",
       "    </tr>\n",
       "    <tr>\n",
       "      <th>2021-01-03</th>\n",
       "      <td>2654779.0</td>\n",
       "      <td>77190.0</td>\n",
       "      <td>54990</td>\n",
       "      <td>455</td>\n",
       "      <td>2686534</td>\n",
       "      <td>75090</td>\n",
       "      <td>429488.0</td>\n",
       "      <td>0.128036</td>\n",
       "    </tr>\n",
       "    <tr>\n",
       "      <th>2021-01-04</th>\n",
       "      <td>2713563.0</td>\n",
       "      <td>77786.0</td>\n",
       "      <td>58784</td>\n",
       "      <td>407</td>\n",
       "      <td>2745318</td>\n",
       "      <td>75497</td>\n",
       "      <td>466600.0</td>\n",
       "      <td>0.125984</td>\n",
       "    </tr>\n",
       "    <tr>\n",
       "      <th>2021-01-05</th>\n",
       "      <td>2774479.0</td>\n",
       "      <td>78273.0</td>\n",
       "      <td>60916</td>\n",
       "      <td>830</td>\n",
       "      <td>2806234</td>\n",
       "      <td>76327</td>\n",
       "      <td>501324.0</td>\n",
       "      <td>0.121510</td>\n",
       "    </tr>\n",
       "    <tr>\n",
       "      <th>2021-01-06</th>\n",
       "      <td>2836801.0</td>\n",
       "      <td>78501.0</td>\n",
       "      <td>62322</td>\n",
       "      <td>1041</td>\n",
       "      <td>2868556</td>\n",
       "      <td>77368</td>\n",
       "      <td>561217.0</td>\n",
       "      <td>0.111048</td>\n",
       "    </tr>\n",
       "    <tr>\n",
       "      <th>2021-01-07</th>\n",
       "      <td>2889419.0</td>\n",
       "      <td>NaN</td>\n",
       "      <td>52618</td>\n",
       "      <td>1162</td>\n",
       "      <td>2921174</td>\n",
       "      <td>78530</td>\n",
       "      <td>623787.0</td>\n",
       "      <td>0.084353</td>\n",
       "    </tr>\n",
       "  </tbody>\n",
       "</table>\n",
       "<p>371 rows × 8 columns</p>\n",
       "</div>"
      ],
      "text/plain": [
       "            cumCasesByPublishDate  cumDeaths28DaysByDeathDate  \\\n",
       "date                                                            \n",
       "2020-01-03                    NaN                         NaN   \n",
       "2020-01-04                    NaN                         NaN   \n",
       "2020-01-05                    NaN                         NaN   \n",
       "2020-01-06                    NaN                         NaN   \n",
       "2020-01-07                    NaN                         NaN   \n",
       "...                           ...                         ...   \n",
       "2021-01-03              2654779.0                     77190.0   \n",
       "2021-01-04              2713563.0                     77786.0   \n",
       "2021-01-05              2774479.0                     78273.0   \n",
       "2021-01-06              2836801.0                     78501.0   \n",
       "2021-01-07              2889419.0                         NaN   \n",
       "\n",
       "            newCasesByPublishDate  newDeaths28DaysByPublishDate  cumCases  \\\n",
       "date                                                                        \n",
       "2020-01-03                      0                             0         0   \n",
       "2020-01-04                      0                             0         0   \n",
       "2020-01-05                      0                             0         0   \n",
       "2020-01-06                      0                             0         0   \n",
       "2020-01-07                      0                             0         0   \n",
       "...                           ...                           ...       ...   \n",
       "2021-01-03                  54990                           455   2686534   \n",
       "2021-01-04                  58784                           407   2745318   \n",
       "2021-01-05                  60916                           830   2806234   \n",
       "2021-01-06                  62322                          1041   2868556   \n",
       "2021-01-07                  52618                          1162   2921174   \n",
       "\n",
       "            cumDeaths  dailyTest  percentPos  \n",
       "date                                          \n",
       "2020-01-03          0        NaN         NaN  \n",
       "2020-01-04          0        NaN         NaN  \n",
       "2020-01-05          0        NaN         NaN  \n",
       "2020-01-06          0        NaN         NaN  \n",
       "2020-01-07          0        NaN         NaN  \n",
       "...               ...        ...         ...  \n",
       "2021-01-03      75090   429488.0    0.128036  \n",
       "2021-01-04      75497   466600.0    0.125984  \n",
       "2021-01-05      76327   501324.0    0.121510  \n",
       "2021-01-06      77368   561217.0    0.111048  \n",
       "2021-01-07      78530   623787.0    0.084353  \n",
       "\n",
       "[371 rows x 8 columns]"
      ]
     },
     "execution_count": 68,
     "metadata": {},
     "output_type": "execute_result"
    }
   ],
   "source": [
    "df[\"date\"] = pd.to_datetime(df[\"date\"])\n",
    "df = df.set_index(\"date\")\n",
    "df"
   ]
  },
  {
   "cell_type": "code",
   "execution_count": 69,
   "metadata": {},
   "outputs": [],
   "source": [
    "from scipy.optimize import curve_fit\n",
    "import matplotlib.pyplot as plt\n",
    "from datetime import datetime"
   ]
  },
  {
   "cell_type": "code",
   "execution_count": 154,
   "metadata": {},
   "outputs": [],
   "source": [
    "def func(x, a, b, c, d):\n",
    "    return 1/(a*np.sqrt(2*np.pi)) * np.exp(-1/2 * ((x - b)/a)**2)"
   ]
  },
  {
   "cell_type": "code",
   "execution_count": 141,
   "metadata": {},
   "outputs": [
    {
     "data": {
      "text/plain": [
       "<AxesSubplot:xlabel='date'>"
      ]
     },
     "execution_count": 141,
     "metadata": {},
     "output_type": "execute_result"
    },
    {
     "data": {
      "image/png": "[encoded data removed]",
      "text/plain": [
       "<Figure size 432x288 with 1 Axes>"
      ]
     },
     "metadata": {
      "needs_background": "light"
     },
     "output_type": "display_data"
    }
   ],
   "source": [
    "df[\"newCasesByPublishDate\"].plot()"
   ]
  },
  {
   "cell_type": "code",
   "execution_count": 142,
   "metadata": {},
   "outputs": [
    {
     "data": {
      "text/plain": [
       "DatetimeIndex(['2020-01-03', '2020-01-04', '2020-01-05', '2020-01-06',\n",
       "               '2020-01-07', '2020-01-08', '2020-01-09', '2020-01-10',\n",
       "               '2020-01-11', '2020-01-12',\n",
       "               ...\n",
       "               '2020-12-29', '2020-12-30', '2020-12-31', '2021-01-01',\n",
       "               '2021-01-02', '2021-01-03', '2021-01-04', '2021-01-05',\n",
       "               '2021-01-06', '2021-01-07'],\n",
       "              dtype='datetime64[ns]', name='date', length=371, freq=None)"
      ]
     },
     "execution_count": 142,
     "metadata": {},
     "output_type": "execute_result"
    }
   ],
   "source": [
    "df[\"newCasesByPublishDate\"].index"
   ]
  },
  {
   "cell_type": "code",
   "execution_count": 143,
   "metadata": {},
   "outputs": [],
   "source": [
    "redCaseDat = df[\"newCasesByPublishDate\"].loc[\"2020-12-1\":]"
   ]
  },
  {
   "cell_type": "code",
   "execution_count": 144,
   "metadata": {},
   "outputs": [
    {
     "data": {
      "text/plain": [
       "0     13430\n",
       "1     16170\n",
       "2     14879\n",
       "3     16298\n",
       "4     15539\n",
       "5     17272\n",
       "6     14718\n",
       "7     12282\n",
       "8     16578\n",
       "9     20964\n",
       "10    21672\n",
       "11    21502\n",
       "12    18447\n",
       "13    20263\n",
       "14    18450\n",
       "15    25161\n",
       "16    35383\n",
       "17    28507\n",
       "18    27052\n",
       "19    35928\n",
       "20    33364\n",
       "21    36804\n",
       "22    39237\n",
       "23    39877\n",
       "24    32725\n",
       "25    35691\n",
       "26    30501\n",
       "27    41385\n",
       "28    53135\n",
       "29    50023\n",
       "30    55892\n",
       "31    53285\n",
       "32    57725\n",
       "33    54990\n",
       "34    58784\n",
       "35    60916\n",
       "36    62322\n",
       "37    52618\n",
       "Name: newCasesByPublishDate, dtype: int64"
      ]
     },
     "execution_count": 144,
     "metadata": {},
     "output_type": "execute_result"
    }
   ],
   "source": [
    "redCaseDat = redCaseDat.reset_index()\n",
    "redCaseDat[\"newCasesByPublishDate\"]"
   ]
  },
  {
   "cell_type": "code",
   "execution_count": 156,
   "metadata": {},
   "outputs": [
    {
     "name": "stderr",
     "output_type": "stream",
     "text": [
      "/home/ojba/.local/lib/python3.8/site-packages/scipy/optimize/minpack.py:828: OptimizeWarning: Covariance of the parameters could not be estimated\n",
      "  warnings.warn('Covariance of the parameters could not be estimated',\n"
     ]
    }
   ],
   "source": [
    "popt, pcov = curve_fit(func, redCaseDat.index, redCaseDat[\"newCasesByPublishDate\"])"
   ]
  },
  {
   "cell_type": "code",
   "execution_count": 157,
   "metadata": {},
   "outputs": [
    {
     "data": {
      "text/plain": [
       "array([1.40904747e-05, 1.99998402e+00, 1.00000000e+00, 1.00000000e+00])"
      ]
     },
     "execution_count": 157,
     "metadata": {},
     "output_type": "execute_result"
    }
   ],
   "source": [
    "popt"
   ]
  },
  {
   "cell_type": "code",
   "execution_count": 158,
   "metadata": {},
   "outputs": [
    {
     "data": {
      "text/plain": [
       "-70969.36282286688"
      ]
     },
     "execution_count": 158,
     "metadata": {},
     "output_type": "execute_result"
    }
   ],
   "source": [
    "-popt[1]/(2*popt[0]) + popt[0]"
   ]
  },
  {
   "cell_type": "code",
   "execution_count": 159,
   "metadata": {},
   "outputs": [],
   "source": [
    "xDom = np.linspace(-100,100)\n",
    "yPred = func(xDom, popt[0], popt[1], popt[2], popt[3])"
   ]
  },
  {
   "cell_type": "code",
   "execution_count": 160,
   "metadata": {},
   "outputs": [
    {
     "data": {
      "image/png": "[encoded data removed]",
      "text/plain": [
       "<Figure size 432x288 with 1 Axes>"
      ]
     },
     "metadata": {
      "needs_background": "light"
     },
     "output_type": "display_data"
    }
   ],
   "source": [
    "plt.plot(yPred)\n",
    "plt.plot(redCaseDat[\"newCasesByPublishDate\"])\n",
    "plt.show()"
   ]
  },
  {
   "cell_type": "code",
   "execution_count": 124,
   "metadata": {},
   "outputs": [
    {
     "data": {
      "text/plain": [
       "[<matplotlib.lines.Line2D at 0x7f2da87a4f10>]"
      ]
     },
     "execution_count": 124,
     "metadata": {},
     "output_type": "execute_result"
    },
    {
     "data": {
      "image/png": "[encoded data removed]",
      "text/plain": [
       "<Figure size 432x288 with 1 Axes>"
      ]
     },
     "metadata": {
      "needs_background": "light"
     },
     "output_type": "display_data"
    }
   ],
   "source": [
    "plt.plot(yPred)"
   ]
  },
  {
   "cell_type": "code",
   "execution_count": 125,
   "metadata": {},
   "outputs": [
    {
     "data": {
      "text/plain": [
       "array([ 0.        ,  0.40816327,  0.81632653,  1.2244898 ,  1.63265306,\n",
       "        2.04081633,  2.44897959,  2.85714286,  3.26530612,  3.67346939,\n",
       "        4.08163265,  4.48979592,  4.89795918,  5.30612245,  5.71428571,\n",
       "        6.12244898,  6.53061224,  6.93877551,  7.34693878,  7.75510204,\n",
       "        8.16326531,  8.57142857,  8.97959184,  9.3877551 ,  9.79591837,\n",
       "       10.20408163, 10.6122449 , 11.02040816, 11.42857143, 11.83673469,\n",
       "       12.24489796, 12.65306122, 13.06122449, 13.46938776, 13.87755102,\n",
       "       14.28571429, 14.69387755, 15.10204082, 15.51020408, 15.91836735,\n",
       "       16.32653061, 16.73469388, 17.14285714, 17.55102041, 17.95918367,\n",
       "       18.36734694, 18.7755102 , 19.18367347, 19.59183673, 20.        ])"
      ]
     },
     "execution_count": 125,
     "metadata": {},
     "output_type": "execute_result"
    }
   ],
   "source": [
    "xDom"
   ]
  },
  {
   "cell_type": "code",
   "execution_count": 155,
   "metadata": {},
   "outputs": [
    {
     "data": {
      "text/plain": [
       "[<matplotlib.lines.Line2D at 0x7f2da80f0940>]"
      ]
     },
     "execution_count": 155,
     "metadata": {},
     "output_type": "execute_result"
    },
    {
     "data": {
      "image/png": "[encoded data removed]",
      "text/plain": [
       "<Figure size 432x288 with 1 Axes>"
      ]
     },
     "metadata": {
      "needs_background": "light"
     },
     "output_type": "display_data"
    }
   ],
   "source": [
    "xT = np.linspace(-100,100)\n",
    "xT\n",
    "yT = func2(xT, 1, 1, 1, 0)\n",
    "plt.plot(yT)"
   ]
  },
  {
   "cell_type": "code",
   "execution_count": 136,
   "metadata": {},
   "outputs": [
    {
     "data": {
      "text/plain": [
       "array([  0.        ,   2.04081633,   4.08163265,   6.12244898,\n",
       "         8.16326531,  10.20408163,  12.24489796,  14.28571429,\n",
       "        16.32653061,  18.36734694,  20.40816327,  22.44897959,\n",
       "        24.48979592,  26.53061224,  28.57142857,  30.6122449 ,\n",
       "        32.65306122,  34.69387755,  36.73469388,  38.7755102 ,\n",
       "        40.81632653,  42.85714286,  44.89795918,  46.93877551,\n",
       "        48.97959184,  51.02040816,  53.06122449,  55.10204082,\n",
       "        57.14285714,  59.18367347,  61.2244898 ,  63.26530612,\n",
       "        65.30612245,  67.34693878,  69.3877551 ,  71.42857143,\n",
       "        73.46938776,  75.51020408,  77.55102041,  79.59183673,\n",
       "        81.63265306,  83.67346939,  85.71428571,  87.75510204,\n",
       "        89.79591837,  91.83673469,  93.87755102,  95.91836735,\n",
       "        97.95918367, 100.        ])"
      ]
     },
     "execution_count": 136,
     "metadata": {},
     "output_type": "execute_result"
    }
   ],
   "source": [
    "xT"
   ]
  },
  {
   "cell_type": "code",
   "execution_count": 137,
   "metadata": {},
   "outputs": [
    {
     "data": {
      "text/plain": [
       "array([1.00000000e+00, 7.20574761e+00, 2.17413578e+01, 4.46068305e+01,\n",
       "       7.58021658e+01, 1.15327364e+02, 1.63182424e+02, 2.19367347e+02,\n",
       "       2.83882132e+02, 3.56726781e+02, 4.37901291e+02, 5.27405664e+02,\n",
       "       6.25239900e+02, 7.31403998e+02, 8.45897959e+02, 9.68721783e+02,\n",
       "       1.09987547e+03, 1.23935902e+03, 1.38717243e+03, 1.54331570e+03,\n",
       "       1.70778884e+03, 1.88059184e+03, 2.06172470e+03, 2.25118742e+03,\n",
       "       2.44898001e+03, 2.65510246e+03, 2.86955477e+03, 3.09233694e+03,\n",
       "       3.32344898e+03, 3.56289088e+03, 3.81066264e+03, 4.06676426e+03,\n",
       "       4.33119575e+03, 4.60395710e+03, 4.88504831e+03, 5.17446939e+03,\n",
       "       5.47222032e+03, 5.77830112e+03, 6.09271179e+03, 6.41545231e+03,\n",
       "       6.74652270e+03, 7.08592295e+03, 7.43365306e+03, 7.78971304e+03,\n",
       "       8.15410287e+03, 8.52682257e+03, 8.90787214e+03, 9.29725156e+03,\n",
       "       9.69496085e+03, 1.01010000e+04])"
      ]
     },
     "execution_count": 137,
     "metadata": {},
     "output_type": "execute_result"
    }
   ],
   "source": [
    "yT"
   ]
  },
  {
   "cell_type": "code",
   "execution_count": null,
   "metadata": {},
   "outputs": [],
   "source": []
  }
 ],
 "metadata": {
  "kernelspec": {
   "display_name": "Python 3",
   "language": "python",
   "name": "python3"
  },
  "language_info": {
   "codemirror_mode": {
    "name": "ipython",
    "version": 3
   },
   "file_extension": ".py",
   "mimetype": "text/x-python",
   "name": "python",
   "nbconvert_exporter": "python",
   "pygments_lexer": "ipython3",
   "version": "3.8.3"
  }
 },
 "nbformat": 4,
 "nbformat_minor": 4
}
